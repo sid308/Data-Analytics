{
 "cells": [
  {
   "cell_type": "code",
   "execution_count": 14,
   "id": "e3de1dc2-d02a-472d-b30a-91479bca424e",
   "metadata": {},
   "outputs": [
    {
     "name": "stdout",
     "output_type": "stream",
     "text": [
      "[ 10  20  40  90 110]\n",
      "(array([3]),)\n",
      "(array([0, 1, 2, 3, 4]),)\n"
     ]
    }
   ],
   "source": [
    "import numpy as np\n",
    "arr = np.array([20,40,10,90,110])\n",
    "print(np.sort(arr))\n",
    "a=np.where(arr == 90)\n",
    "print(a)\n",
    "print(np.where(arr % 2 == 0))"
   ]
  },
  {
   "cell_type": "code",
   "execution_count": 18,
   "id": "f1d0849c-93ab-43a1-9eee-9eb899d93099",
   "metadata": {},
   "outputs": [
    {
     "name": "stdout",
     "output_type": "stream",
     "text": [
      "1\n"
     ]
    }
   ],
   "source": [
    "arr2 = np.array([10,20,30,40,50])\n",
    "print(np.searchsorted(arr2,20))"
   ]
  },
  {
   "cell_type": "code",
   "execution_count": 22,
   "id": "a15d35d3-62d9-4a20-ad7e-9f8ebbc48bea",
   "metadata": {},
   "outputs": [
    {
     "name": "stdout",
     "output_type": "stream",
     "text": [
      "[40 50 60 70]\n"
     ]
    }
   ],
   "source": [
    "arr3 = np.array([20,40,50,60,70])\n",
    "new = [True,False,True,False,True]\n",
    "fa = arr3>30\n",
    "print(arr3[fa])"
   ]
  }
 ],
 "metadata": {
  "kernelspec": {
   "display_name": "Python 3 (ipykernel)",
   "language": "python",
   "name": "python3"
  },
  "language_info": {
   "codemirror_mode": {
    "name": "ipython",
    "version": 3
   },
   "file_extension": ".py",
   "mimetype": "text/x-python",
   "name": "python",
   "nbconvert_exporter": "python",
   "pygments_lexer": "ipython3",
   "version": "3.12.4"
  }
 },
 "nbformat": 4,
 "nbformat_minor": 5
}
