{
 "cells": [
  {
   "cell_type": "code",
   "execution_count": 10,
   "id": "5176c8ee-96e5-4cbf-9a85-3b95c712e288",
   "metadata": {},
   "outputs": [
    {
     "name": "stdout",
     "output_type": "stream",
     "text": [
      "[ 20  40  60  80 100]\n",
      "[20 40 50 60 80]\n",
      "[20 60 80]\n"
     ]
    }
   ],
   "source": [
    "import numpy as np\n",
    "arr1 = np.array([[20,40],[60,80]])\n",
    "print(np.append(arr1,100))\n"
   ]
  },
  {
   "cell_type": "code",
   "execution_count": 13,
   "id": "315b530a-b37e-4f61-8015-e3c5e349cc65",
   "metadata": {},
   "outputs": [
    {
     "name": "stdout",
     "output_type": "stream",
     "text": [
      "[[20 40]\n",
      " [70 90]\n",
      " [60 80]\n",
      " [70 90]]\n"
     ]
    }
   ],
   "source": [
    "print(np.insert(arr1,[1,2],[70,90],axis=0))"
   ]
  },
  {
   "cell_type": "code",
   "execution_count": 20,
   "id": "c88f96e1-e46d-4287-925f-f3d47315d333",
   "metadata": {},
   "outputs": [
    {
     "name": "stdout",
     "output_type": "stream",
     "text": [
      "[[20 40]\n",
      " [60 80]]\n",
      "[[20 40]]\n"
     ]
    }
   ],
   "source": [
    "print(arr1)\n",
    "print(np.delete(arr1,1,axis=0))"
   ]
  }
 ],
 "metadata": {
  "kernelspec": {
   "display_name": "Python 3 (ipykernel)",
   "language": "python",
   "name": "python3"
  },
  "language_info": {
   "codemirror_mode": {
    "name": "ipython",
    "version": 3
   },
   "file_extension": ".py",
   "mimetype": "text/x-python",
   "name": "python",
   "nbconvert_exporter": "python",
   "pygments_lexer": "ipython3",
   "version": "3.12.4"
  }
 },
 "nbformat": 4,
 "nbformat_minor": 5
}
