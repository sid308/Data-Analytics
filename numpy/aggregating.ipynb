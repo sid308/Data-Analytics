{
 "cells": [
  {
   "cell_type": "code",
   "execution_count": 4,
   "id": "356f49e0-4e34-41c3-b022-ea25f8c8a5a3",
   "metadata": {},
   "outputs": [
    {
     "name": "stdout",
     "output_type": "stream",
     "text": [
      "150\n",
      "10\n",
      "50\n",
      "5\n",
      "30.0\n",
      "[ 10  30  60 100 150]\n",
      "[      10      200     6000   240000 12000000]\n"
     ]
    }
   ],
   "source": [
    "import numpy as np\n",
    "arr = np.array([10,20,30,40,50])\n",
    "print(np.sum(arr))\n",
    "print(np.min(arr))\n",
    "print(np.max(arr))\n",
    "print(np.size(arr))\n",
    "print(np.mean(arr))\n",
    "print(np.cumsum(arr))\n",
    "print(np.cumprod(arr))"
   ]
  },
  {
   "cell_type": "code",
   "execution_count": 9,
   "id": "0406ed0f-5438-4689-8068-971ca9b07f88",
   "metadata": {},
   "outputs": [
    {
     "name": "stdout",
     "output_type": "stream",
     "text": [
      "27050\n",
      "[ 1200  3000  2600 12900  7350]\n"
     ]
    }
   ],
   "source": [
    "#example\n",
    "price = np.array([100,150,200,300,350])\n",
    "quantity = np.array([12,20,13,43,21])\n",
    "total = (np.cumprod([price,quantity],axis=0))\n",
    "print(total[1].sum())\n",
    "total = np.multiply(price,quantity)\n",
    "print(total)"
   ]
  }
 ],
 "metadata": {
  "kernelspec": {
   "display_name": "Python 3 (ipykernel)",
   "language": "python",
   "name": "python3"
  },
  "language_info": {
   "codemirror_mode": {
    "name": "ipython",
    "version": 3
   },
   "file_extension": ".py",
   "mimetype": "text/x-python",
   "name": "python",
   "nbconvert_exporter": "python",
   "pygments_lexer": "ipython3",
   "version": "3.12.4"
  }
 },
 "nbformat": 4,
 "nbformat_minor": 5
}
