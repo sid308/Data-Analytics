{
 "cells": [
  {
   "cell_type": "code",
   "execution_count": 6,
   "id": "4ac2ce19-4451-47ff-9b49-9395d03ca94a",
   "metadata": {},
   "outputs": [
    {
     "name": "stdout",
     "output_type": "stream",
     "text": [
      "[[10 20]\n",
      " [30 40]\n",
      " [50 60]\n",
      " [70 80]]\n",
      "[[10 20]\n",
      " [30 40]\n",
      " [50 60]\n",
      " [70 80]]\n",
      "--------------------------------\n",
      "[[10 20 50 60]\n",
      " [30 40 70 80]]\n",
      "[[10 20 50 60]\n",
      " [30 40 70 80]]\n"
     ]
    }
   ],
   "source": [
    "import numpy as np\n",
    "arr1 = np.array([[10,20],[30,40]])\n",
    "arr2 = np.array([[50,60],[70,80]])\n",
    "print(np.concatenate([arr1,arr2],axis=0)) #vertical concatenate\n",
    "print(np.vstack([arr1,arr2]))\n",
    "print(\"--------------------------------\")\n",
    "print(np.concatenate([arr1,arr2],axis=1)) #horizontal concatenate\n",
    "print(np.hstack([arr1,arr2]))"
   ]
  },
  {
   "cell_type": "code",
   "execution_count": 13,
   "id": "59346ecb-4e19-4bf8-b64f-f97ad3044621",
   "metadata": {},
   "outputs": [
    {
     "name": "stdout",
     "output_type": "stream",
     "text": [
      "[30 40]\n",
      "[array([[10, 20, 30]]), array([[40, 50, 60]]), array([], shape=(0, 3), dtype=int64)]\n"
     ]
    }
   ],
   "source": [
    "import numpy as np\n",
    "arr1 = np.array([10,20,30,40,50,60])\n",
    "b=np.array_split(arr1,3)\n",
    "print(b[1])\n",
    "arr2 = np.array([[10,20,30],[40,50,60]])\n",
    "print(np.array_split(arr2,3))\n"
   ]
  }
 ],
 "metadata": {
  "kernelspec": {
   "display_name": "Python 3 (ipykernel)",
   "language": "python",
   "name": "python3"
  },
  "language_info": {
   "codemirror_mode": {
    "name": "ipython",
    "version": 3
   },
   "file_extension": ".py",
   "mimetype": "text/x-python",
   "name": "python",
   "nbconvert_exporter": "python",
   "pygments_lexer": "ipython3",
   "version": "3.12.4"
  }
 },
 "nbformat": 4,
 "nbformat_minor": 5
}
