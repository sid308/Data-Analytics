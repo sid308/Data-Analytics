{
 "cells": [
  {
   "cell_type": "code",
   "execution_count": 10,
   "id": "187b6c59-75bc-458d-adb4-ea782e7c287d",
   "metadata": {},
   "outputs": [
    {
     "name": "stdout",
     "output_type": "stream",
     "text": [
      "202.25\n",
      "194.0\n",
      "200\n",
      "55.68157235567257\n",
      "3100.4375\n"
     ]
    }
   ],
   "source": [
    "import numpy as np\n",
    "import statistics as stats\n",
    "baked_food = [200, 300,150,130,200,280,170,188]\n",
    "a = np.array([baked_food])\n",
    "print(np.mean(a)) #sum all values / number of values\n",
    "print(np.median(a)) #middle number, If number of values is even then it'll take mean of middle \n",
    "print(stats.mode(baked_food)) #most repeating value\n",
    "print(np.std(a))\n",
    "print(np.var(a))"
   ]
  },
  {
   "cell_type": "code",
   "execution_count": 12,
   "id": "abf040be-4590-49e2-9314-e518ed62d222",
   "metadata": {},
   "outputs": [
    {
     "name": "stdout",
     "output_type": "stream",
     "text": [
      "[[1.         0.99015454]\n",
      " [0.99015454 1.        ]]\n"
     ]
    }
   ],
   "source": [
    "#corelation coefficient\n",
    "# - 1 represent inversely proportional relationship\n",
    "# 1 represents proportional relationship\n",
    "# 0 means no relationship\n",
    "tobacco_consumption = [30,50,10,30,50,40]\n",
    "deaths = [100,120,70,100,120,112]\n",
    "print(np.corrcoef([tobacco_consumption,deaths]))"
   ]
  }
 ],
 "metadata": {
  "kernelspec": {
   "display_name": "Python 3 (ipykernel)",
   "language": "python",
   "name": "python3"
  },
  "language_info": {
   "codemirror_mode": {
    "name": "ipython",
    "version": 3
   },
   "file_extension": ".py",
   "mimetype": "text/x-python",
   "name": "python",
   "nbconvert_exporter": "python",
   "pygments_lexer": "ipython3",
   "version": "3.12.4"
  }
 },
 "nbformat": 4,
 "nbformat_minor": 5
}
