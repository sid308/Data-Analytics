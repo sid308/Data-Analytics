{
 "cells": [
  {
   "cell_type": "code",
   "execution_count": 2,
   "id": "7361f136-0a01-4c86-815c-9dcf7d6a564f",
   "metadata": {},
   "outputs": [
    {
     "name": "stdout",
     "output_type": "stream",
     "text": [
      "  keys  Names Houses\n",
      "0   k1   John    red\n",
      "1   k2    Ben   blue\n",
      "2   k1  David  green\n",
      "3   k2  Peter    red\n",
      "\n",
      "Names  John   Ben  David Peter\n",
      "keys                          \n",
      "k1      red   NaN  green   NaN\n",
      "k2      NaN  blue    NaN   red\n"
     ]
    }
   ],
   "source": [
    "import pandas as pd\n",
    "dict = {\"keys\": [\"k1\", \"k2\", \"k1\", \"k2\"],\n",
    "        \"Names\": [\" John\", \"Ben\", \"David\", \"Peter\"],\n",
    "        \"Houses\": [\"red\", \"blue\", \"green\", \"red\" ]}\n",
    "\n",
    "df = pd.DataFrame(dict)\n",
    "print(df)\n",
    "print()\n",
    "print(df.pivot(index='keys', columns='Names', values='Houses'))"
   ]
  }
 ],
 "metadata": {
  "kernelspec": {
   "display_name": "Python 3 (ipykernel)",
   "language": "python",
   "name": "python3"
  },
  "language_info": {
   "codemirror_mode": {
    "name": "ipython",
    "version": 3
   },
   "file_extension": ".py",
   "mimetype": "text/x-python",
   "name": "python",
   "nbconvert_exporter": "python",
   "pygments_lexer": "ipython3",
   "version": "3.12.4"
  }
 },
 "nbformat": 4,
 "nbformat_minor": 5
}
