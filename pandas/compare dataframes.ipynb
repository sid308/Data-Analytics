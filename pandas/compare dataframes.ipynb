{
 "cells": [
  {
   "cell_type": "code",
   "execution_count": 7,
   "id": "3d172c0c-8736-41a8-91c4-3b65dbd5378b",
   "metadata": {},
   "outputs": [
    {
     "name": "stdout",
     "output_type": "stream",
     "text": [
      "   Fruits  Price  Quantity\n",
      "0   mango    100        15\n",
      "1  apples    150        10\n",
      "2  banana     50        10\n",
      "3  papaya     35         3\n",
      "\n",
      "   Fruits  Price  Quantity\n",
      "0   mango    120        12\n",
      "1  apples    175        15\n",
      "2  banana     50        10\n",
      "3  papaya     30         5\n",
      "\n",
      "         Price  Quantity\n",
      "0 self   100.0      15.0\n",
      "  other  120.0      12.0\n",
      "1 self   150.0      10.0\n",
      "  other  175.0      15.0\n",
      "3 self    35.0       3.0\n",
      "  other   30.0       5.0\n"
     ]
    }
   ],
   "source": [
    "import pandas as pd\n",
    "\n",
    "dict = {\"Fruits\": [\"mango\", \"apples\", \"banana\" , \"papaya\"],\n",
    "        \"Price\": [100, 150,50, 35],\n",
    "        \"Quantity\": [15,10,10,3]}\n",
    "\n",
    "df1 = pd.DataFrame(dict)\n",
    "print(df1)\n",
    "\n",
    "df2 = df1.copy()\n",
    "\n",
    "df2.loc[0,\"Price\"]=120\n",
    "df2.loc[1,\"Price\"]=175\n",
    "df2.loc[3,\"Price\"]=30\n",
    "df2.loc[0,\"Quantity\"]=12\n",
    "df2.loc[1,\"Quantity\"]=15\n",
    "df2.loc[3,\"Quantity\"]=5\n",
    "\n",
    "print()\n",
    "print(df2)\n",
    "print()\n",
    "print(df1.compare(df2,align_axis=0))"
   ]
  }
 ],
 "metadata": {
  "kernelspec": {
   "display_name": "Python 3 (ipykernel)",
   "language": "python",
   "name": "python3"
  },
  "language_info": {
   "codemirror_mode": {
    "name": "ipython",
    "version": 3
   },
   "file_extension": ".py",
   "mimetype": "text/x-python",
   "name": "python",
   "nbconvert_exporter": "python",
   "pygments_lexer": "ipython3",
   "version": "3.12.4"
  }
 },
 "nbformat": 4,
 "nbformat_minor": 5
}
