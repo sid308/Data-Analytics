{
 "cells": [
  {
   "cell_type": "code",
   "execution_count": 4,
   "id": "2c1a3655-dcc1-4ff4-8dc9-11eb0eb41fe8",
   "metadata": {},
   "outputs": [
    {
     "name": "stdout",
     "output_type": "stream",
     "text": [
      "      Name  Age  Salary\n",
      "0     John   21   30000\n",
      "1    Peter   25   18000\n",
      "2   Samuel   19   32000\n",
      "3  Richard   45   28000\n",
      "4   Daniel   32   45000\n"
     ]
    }
   ],
   "source": [
    "import pandas as pd\n",
    "data = {\"Name\":[\"John\",\"Peter\",\"Samuel\",\"Richard\",\"Daniel\"],\n",
    "       \"Age\":[21,25,19,45,32],\n",
    "       \"Salary\":[30000,18000,32000,28000,45000]\n",
    "       }\n",
    "\n",
    "#df=dataFrame\n",
    "df = pd.DataFrame(data)\n",
    "print(df)"
   ]
  },
  {
   "cell_type": "code",
   "execution_count": 9,
   "id": "3a71d559-c6d7-4e77-b444-3acc9aea8ecc",
   "metadata": {},
   "outputs": [
    {
     "name": "stdout",
     "output_type": "stream",
     "text": [
      "    Unnamed: 0  Sr No                                   Paper Name Paper Code  \\\n",
      "0            0      1                                Life Sciences         XL   \n",
      "1            1      2                            Civil Engineering         CE   \n",
      "2            2      3                       Electrical Engineering         EE   \n",
      "3            3      4  Computer Science and Information Technology         CS   \n",
      "4            4      5                       Mechanical Engineering         ME   \n",
      "..         ...    ...                                          ...        ...   \n",
      "88          88     89                       Electrical Engineering         EE   \n",
      "89          89     90    Electronics and Communication Engineering         EC   \n",
      "90          90     91  Computer Science and Information Technology         CS   \n",
      "91          91     92                  Instrumentation Engineering         IN   \n",
      "92          92     93        Production and Industrial Engineering         PI   \n",
      "\n",
      "      GEN    OBC  SC/ST  Year  \n",
      "0   31.70  28.50  21.10  2020  \n",
      "1   32.90  29.60  21.90  2020  \n",
      "2   33.40  30.00  22.20  2020  \n",
      "3   28.50  25.60  19.00  2020  \n",
      "4   34.00  30.60  22.60  2020  \n",
      "..    ...    ...    ...   ...  \n",
      "88  25.00  22.50  16.67  2015  \n",
      "89  25.00  22.50  16.67  2015  \n",
      "90  25.00  22.50  16.67  2015  \n",
      "91  25.45  22.90  16.96  2015  \n",
      "92  26.82  24.14  17.88  2015  \n",
      "\n",
      "[93 rows x 8 columns]\n"
     ]
    }
   ],
   "source": [
    "data = pd.read_csv(\"gate.csv\")\n",
    "df = pd.DataFrame(data)\n",
    "print(data)"
   ]
  },
  {
   "cell_type": "code",
   "execution_count": 10,
   "id": "ba47a604-60c3-419a-9dec-1685c5ed1cc6",
   "metadata": {},
   "outputs": [
    {
     "name": "stdout",
     "output_type": "stream",
     "text": [
      "      Row ID Order Priority  Discount  Unit Price  Shipping Cost  Customer ID  \\\n",
      "0      20847           High      0.01        2.84           0.93            3   \n",
      "1      20228  Not Specified      0.02      500.98          26.00            5   \n",
      "2      21776       Critical      0.06        9.48           7.29           11   \n",
      "3      24844         Medium      0.09       78.69          19.99           14   \n",
      "4      24846         Medium      0.08        3.28           2.31           14   \n",
      "...      ...            ...       ...         ...            ...          ...   \n",
      "1947   19842           High      0.01       10.90           7.46         3397   \n",
      "1948   19843           High      0.10        7.99           5.03         3397   \n",
      "1949   26208  Not Specified      0.08       11.97           5.81         3399   \n",
      "1950   24911         Medium      0.10        9.38           4.93         3400   \n",
      "1951   25914           High      0.10      105.98          13.99         3403   \n",
      "\n",
      "          Customer Name       Ship Mode Customer Segment Product Category  \\\n",
      "0         Bonnie Potter     Express Air        Corporate  Office Supplies   \n",
      "1        Ronnie Proctor  Delivery Truck      Home Office        Furniture   \n",
      "2         Marcus Dunlap     Regular Air      Home Office        Furniture   \n",
      "3     Gwendolyn F Tyson     Regular Air   Small Business        Furniture   \n",
      "4     Gwendolyn F Tyson     Regular Air   Small Business  Office Supplies   \n",
      "...                 ...             ...              ...              ...   \n",
      "1947        Andrea Shaw     Regular Air   Small Business  Office Supplies   \n",
      "1948        Andrea Shaw     Regular Air   Small Business       Technology   \n",
      "1949        Marvin Reid     Regular Air   Small Business  Office Supplies   \n",
      "1950      Florence Gold     Express Air   Small Business        Furniture   \n",
      "1951      Tammy Buckley     Express Air         Consumer        Furniture   \n",
      "\n",
      "      ...   Region State or Province         City  Postal Code Order Date  \\\n",
      "0     ...     West        Washington    Anacortes        98221 2015-01-07   \n",
      "1     ...     West        California  San Gabriel        91776 2015-06-13   \n",
      "2     ...     East        New Jersey      Roselle         7203 2015-02-15   \n",
      "3     ...  Central         Minnesota   Prior Lake        55372 2015-05-12   \n",
      "4     ...  Central         Minnesota   Prior Lake        55372 2015-05-12   \n",
      "...   ...      ...               ...          ...          ...        ...   \n",
      "1947  ...  Central          Illinois     Danville        61832 2015-03-11   \n",
      "1948  ...  Central          Illinois     Danville        61832 2015-03-11   \n",
      "1949  ...  Central          Illinois  Des Plaines        60016 2015-03-29   \n",
      "1950  ...     East     West Virginia     Fairmont        26554 2015-04-04   \n",
      "1951  ...     West           Wyoming     Cheyenne        82001 2015-02-08   \n",
      "\n",
      "      Ship Date     Profit Quantity ordered new    Sales Order ID  \n",
      "0    2015-01-08     4.5600                    4    13.01    88522  \n",
      "1    2015-06-15  4390.3665                   12  6362.85    90193  \n",
      "2    2015-02-17   -53.8096                   22   211.15    90192  \n",
      "3    2015-05-14   803.4705                   16  1164.45    86838  \n",
      "4    2015-05-13   -24.0300                    7    22.23    86838  \n",
      "...         ...        ...                  ...      ...      ...  \n",
      "1947 2015-03-12  -116.7600                   18   207.31    87536  \n",
      "1948 2015-03-12  -160.9520                   22   143.12    87536  \n",
      "1949 2015-03-31   -41.8700                    5    59.98    87534  \n",
      "1950 2015-04-04   -24.7104                   15   135.78    87537  \n",
      "1951 2015-02-11   349.4850                    5   506.50    87530  \n",
      "\n",
      "[1952 rows x 25 columns]\n"
     ]
    }
   ],
   "source": [
    "data = pd.read_excel(\"store.xlsx\")\n",
    "print(data)"
   ]
  }
 ],
 "metadata": {
  "kernelspec": {
   "display_name": "Python 3 (ipykernel)",
   "language": "python",
   "name": "python3"
  },
  "language_info": {
   "codemirror_mode": {
    "name": "ipython",
    "version": 3
   },
   "file_extension": ".py",
   "mimetype": "text/x-python",
   "name": "python",
   "nbconvert_exporter": "python",
   "pygments_lexer": "ipython3",
   "version": "3.12.4"
  }
 },
 "nbformat": 4,
 "nbformat_minor": 5
}
