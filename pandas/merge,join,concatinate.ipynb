{
 "cells": [
  {
   "cell_type": "code",
   "execution_count": null,
   "id": "867f7083-edce-44f5-88c0-c4c64b82c638",
   "metadata": {},
   "outputs": [],
   "source": [
    "import pandas as pd\n",
    "data1 = {\"Emp Id\": [\"E01\", \"E02\", \"E03\", \"E04\", \"E05\",\"E07\"],\n",
    "\"Names\" : [\"Ram\", \"Shyam\", \"Rahul\", \"Vishal\", \"Ravi\",\"John\"],\n",
    "\"Age\": [34,56,23,44, 32,36]}\n",
    "data2 = {\"Emp Id\": [\"E01\", \"E02\", \"E03\", \"Е04\", \"E05\", \"E08\"],\n",
    "         \"Salary\": [45000, 56000, 34000, 30000, 50000, 62000]\n",
    "        }\n",
    "df1 = pd. DataFrame(data1)\n",
    "df2 = pd. DataFrame(data2)\n",
    "print(df1)\n",
    "print()\n",
    "print(df2)"
   ]
  },
  {
   "cell_type": "code",
   "execution_count": null,
   "id": "4eeac73b-081a-41df-9539-6a301268e90b",
   "metadata": {},
   "outputs": [],
   "source": [
    "#merge\n",
    "print(pd.merge(df1,df2,on = \"Emp Id\",how=\"left\"))"
   ]
  },
  {
   "cell_type": "code",
   "execution_count": null,
   "id": "810b4ac3-9d4e-48d2-adfe-9ad1da4337a0",
   "metadata": {},
   "outputs": [],
   "source": [
    "print(pd.merge(df1,df2,on = \"Emp Id\",how=\"right\"))\n"
   ]
  },
  {
   "cell_type": "code",
   "execution_count": null,
   "id": "40255b54-cf9c-49e2-9c3a-41d01e94965b",
   "metadata": {},
   "outputs": [],
   "source": [
    "print(pd.merge(df1,df2,on = \"Emp Id\",how=\"inner\"))\n"
   ]
  },
  {
   "cell_type": "code",
   "execution_count": 13,
   "id": "33717d6c-df53-4811-96f2-3c7b8d563017",
   "metadata": {},
   "outputs": [
    {
     "name": "stdout",
     "output_type": "stream",
     "text": [
      "  Emp Id   Names  Age\n",
      "0    E01     Ram   34\n",
      "1    Е02   Shyam   56\n",
      "2    Е03   Rahul   23\n",
      "3    E04  Vishal   44\n",
      "4    E05    Ravi   32\n",
      "5    E06    John   36\n",
      "\n",
      "  Emp Id   Names  Age\n",
      "0    E07   bittu   34\n",
      "1    E08  chintu   56\n",
      "2    E09   pappu   23\n",
      "3   E010   chotu   44\n",
      "4   E011   bunty   32\n",
      "5   E012    golu   36\n"
     ]
    }
   ],
   "source": [
    "import pandas as pd\n",
    "data1 = {\"Emp Id\" : [\"E01\" , \"Е02\",\"Е03\",\"E04\",\"E05\",\"E06\"],\n",
    "\"Names\" : [\"Ram\", \"Shyam\", \"Rahul\", \"Vishal\", \"Ravi\", \"John\"],\n",
    "\"Age\" : [34,56, 23,44,32, 36]}\n",
    "data2 = {\"Emp Id\": [\"E07\" , \"E08\", \"E09\", \"E010\", \"E011\", \"E012\"],\n",
    "\"Names\" : [\"bittu\", \"chintu\", \"pappu\", \"chotu\", \"bunty\", \"golu\"],\n",
    "\"Age\" : [34,56, 23,44,32, 36]}\n",
    "df1 = pd.DataFrame(data1)\n",
    "df2 = pd.DataFrame(data2)\n",
    "print(df1)\n",
    "print()\n",
    "print(df2)"
   ]
  },
  {
   "cell_type": "code",
   "execution_count": 18,
   "id": "58f63ef0-b077-4459-b1c5-ce1223526f52",
   "metadata": {},
   "outputs": [
    {
     "name": "stdout",
     "output_type": "stream",
     "text": [
      "  Emp Id   Names  Age\n",
      "0    E01     Ram   34\n",
      "1    Е02   Shyam   56\n",
      "2    Е03   Rahul   23\n",
      "3    E04  Vishal   44\n",
      "4    E05    Ravi   32\n",
      "5    E06    John   36\n",
      "0    E07   bittu   34\n",
      "1    E08  chintu   56\n",
      "2    E09   pappu   23\n",
      "3   E010   chotu   44\n",
      "4   E011   bunty   32\n",
      "5   E012    golu   36\n"
     ]
    }
   ],
   "source": [
    "print(pd.concat([df1,df2]))"
   ]
  }
 ],
 "metadata": {
  "kernelspec": {
   "display_name": "Python 3 (ipykernel)",
   "language": "python",
   "name": "python3"
  },
  "language_info": {
   "codemirror_mode": {
    "name": "ipython",
    "version": 3
   },
   "file_extension": ".py",
   "mimetype": "text/x-python",
   "name": "python",
   "nbconvert_exporter": "python",
   "pygments_lexer": "ipython3",
   "version": "3.12.4"
  }
 },
 "nbformat": 4,
 "nbformat_minor": 5
}
