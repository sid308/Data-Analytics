{
 "cells": [
  {
   "cell_type": "code",
   "execution_count": 34,
   "id": "02ed2d69-1e60-4d95-b6ef-74ef8d48cfb2",
   "metadata": {},
   "outputs": [
    {
     "name": "stdout",
     "output_type": "stream",
     "text": [
      "    Row ID  Discount  Unit Price  Shipping Cost  Customer ID   Customer Name\n",
      "0    20847      0.01        2.84           0.93            3   Bonnie Potter\n",
      "1    20228      0.02      500.98          26.00            5  Ronnie Proctor\n",
      "2    21776      0.06        9.48           7.29           11   Marcus Dunlap\n",
      "3    24844      0.09       78.69          19.99           14       Gwendolyn\n",
      "4    24846      0.08        3.28            NaN           14       Gwendolyn\n",
      "5    24847      0.05        3.28           4.20           14       Gwendolyn\n",
      "6    24848      0.05         NaN           1.63           14       Gwendolyn\n",
      "7    18181      0.00        4.42           4.99           15   Timothy Reese\n",
      "8    20925      0.01       35.94           6.66           15   Timothy Reese\n",
      "9    26267      0.04        2.98           1.58           16    Sarah Ramsey\n",
      "10   26268      0.05      115.99           2.50           16    Sarah Ramsey\n",
      "11   23890      0.05       26.48           6.93           18    Laurie Hanna\n",
      "12   24063       NaN       12.99           9.44           19     Jim Rodgers\n",
      "13    5890      0.05       26.48           6.93           21    Tony Wilkins\n",
      "14    6062      0.08        5.00           3.39           21    Tony Wilkins\n",
      "15    6063      0.07       12.99            NaN           21    Tony Wilkins\n",
      "16   20631      0.06       55.48          14.30           24     Edna Thomas\n",
      "17   20632      0.02         NaN           1.57           24     Edna Thomas\n",
      "18   23967      0.04        4.14           6.60           27   Guy Gallagher\n"
     ]
    }
   ],
   "source": [
    "import pandas as pd\n",
    "import numpy as np\n",
    "data = pd.read_excel(\"store.xlsx\")\n",
    "print(data)"
   ]
  },
  {
   "cell_type": "code",
   "execution_count": 6,
   "id": "ed90e2fc-c3ea-4aff-8d11-1d063ed300f6",
   "metadata": {},
   "outputs": [
    {
     "name": "stdout",
     "output_type": "stream",
     "text": [
      "Row ID           0\n",
      "Discount         1\n",
      "Unit Price       2\n",
      "Shipping Cost    2\n",
      "Customer ID      0\n",
      "Customer Name    0\n",
      "dtype: int64\n"
     ]
    }
   ],
   "source": [
    "print(data.isnull().sum())"
   ]
  },
  {
   "cell_type": "code",
   "execution_count": 14,
   "id": "b1564dc4-e7cc-4105-9048-3c10b920b95a",
   "metadata": {},
   "outputs": [
    {
     "name": "stdout",
     "output_type": "stream",
     "text": [
      "    Row ID  Discount  Unit Price  Shipping Cost  Customer ID   Customer Name\n",
      "0    20847      0.01        2.84           0.93            3   Bonnie Potter\n",
      "1    20228      0.02      500.98          26.00            5  Ronnie Proctor\n",
      "2    21776      0.06        9.48           7.29           11   Marcus Dunlap\n",
      "3    24844      0.09       78.69          19.99           14       Gwendolyn\n",
      "5    24847      0.05        3.28           4.20           14       Gwendolyn\n",
      "7    18181      0.00        4.42           4.99           15   Timothy Reese\n",
      "8    20925      0.01       35.94           6.66           15   Timothy Reese\n",
      "9    26267      0.04        2.98           1.58           16    Sarah Ramsey\n",
      "10   26268      0.05      115.99           2.50           16    Sarah Ramsey\n",
      "11   23890      0.05       26.48           6.93           18    Laurie Hanna\n",
      "13    5890      0.05       26.48           6.93           21    Tony Wilkins\n",
      "14    6062      0.08        5.00           3.39           21    Tony Wilkins\n",
      "16   20631      0.06       55.48          14.30           24     Edna Thomas\n",
      "18   23967      0.04        4.14           6.60           27   Guy Gallagher\n"
     ]
    }
   ],
   "source": [
    "print(data.dropna())"
   ]
  },
  {
   "cell_type": "code",
   "execution_count": 32,
   "id": "b106bbfe-21f6-4969-8702-ce55164ded57",
   "metadata": {},
   "outputs": [
    {
     "name": "stdout",
     "output_type": "stream",
     "text": [
      "    Row ID  Discount  Unit Price  Shipping Cost  Customer ID   Customer Name\n",
      "0    20847      0.01        2.84       0.930000            3   Bonnie Potter\n",
      "1    20228      0.02      500.98      26.000000            5  Ronnie Proctor\n",
      "2    21776      0.06        9.48       7.290000           11   Marcus Dunlap\n",
      "3    24844      0.09       78.69      19.990000           14       Gwendolyn\n",
      "4    24846      0.08        3.28       7.348824           14       Gwendolyn\n",
      "5    24847      0.05        3.28       4.200000           14       Gwendolyn\n",
      "6    24848      0.05         NaN       1.630000           14       Gwendolyn\n",
      "7    18181      0.00        4.42       4.990000           15   Timothy Reese\n",
      "8    20925      0.01       35.94       6.660000           15   Timothy Reese\n",
      "9    26267      0.04        2.98       1.580000           16    Sarah Ramsey\n",
      "10   26268      0.05      115.99       2.500000           16    Sarah Ramsey\n",
      "11   23890      0.05       26.48       6.930000           18    Laurie Hanna\n",
      "12   24063       NaN       12.99       9.440000           19     Jim Rodgers\n",
      "13    5890      0.05       26.48       6.930000           21    Tony Wilkins\n",
      "14    6062      0.08        5.00       3.390000           21    Tony Wilkins\n",
      "15    6063      0.07       12.99       7.348824           21    Tony Wilkins\n",
      "16   20631      0.06       55.48      14.300000           24     Edna Thomas\n",
      "17   20632      0.02         NaN       1.570000           24     Edna Thomas\n",
      "18   23967      0.04        4.14       6.600000           27   Guy Gallagher\n"
     ]
    }
   ],
   "source": [
    "data[\"Shipping Cost\"] = data[\"Shipping Cost\"].replace(np.nan,data[\"Shipping Cost\"].mean())\n",
    "print(data)"
   ]
  },
  {
   "cell_type": "code",
   "execution_count": 37,
   "id": "4c46b99a-cc80-41d3-80a7-a4c19a3207be",
   "metadata": {},
   "outputs": [
    {
     "name": "stdout",
     "output_type": "stream",
     "text": [
      "    Row ID  Discount  Unit Price  Shipping Cost  Customer ID   Customer Name\n",
      "0    20847      0.01        2.84           0.93            3   Bonnie Potter\n",
      "1    20228      0.02      500.98          26.00            5  Ronnie Proctor\n",
      "2    21776      0.06        9.48           7.29           11   Marcus Dunlap\n",
      "3    24844      0.09       78.69          19.99           14       Gwendolyn\n",
      "4    24846      0.08        3.28            NaN           14       Gwendolyn\n",
      "5    24847      0.05        3.28           4.20           14       Gwendolyn\n",
      "6    24848      0.05         NaN           1.63           14       Gwendolyn\n",
      "7    18181      0.00        4.42           4.99           15   Timothy Reese\n",
      "8    20925      0.01       35.94           6.66           15   Timothy Reese\n",
      "9    26267      0.04        2.98           1.58           16    Sarah Ramsey\n",
      "10   26268      0.05      115.99           2.50           16    Sarah Ramsey\n",
      "11   23890      0.05       26.48           6.93           18    Laurie Hanna\n",
      "12   24063       NaN       12.99           9.44           19     Jim Rodgers\n",
      "13    5890      0.05       26.48           6.93           21    Tony Wilkins\n",
      "14    6062      0.08        5.00           3.39           21    Tony Wilkins\n",
      "15    6063      0.07       12.99            NaN           21    Tony Wilkins\n",
      "16   20631      0.06       55.48          14.30           24     Edna Thomas\n",
      "17   20632      0.02         NaN           1.57           24     Edna Thomas\n",
      "18   23967      0.04        4.14           6.60           27   Guy Gallagher\n"
     ]
    }
   ],
   "source": [
    "print(data)"
   ]
  },
  {
   "cell_type": "code",
   "execution_count": 42,
   "id": "6096ff20-6c71-4db2-be9c-796e4d4f93df",
   "metadata": {},
   "outputs": [
    {
     "ename": "TypeError",
     "evalue": "NDFrame.bfill() takes 1 positional argument but 2 were given",
     "output_type": "error",
     "traceback": [
      "\u001b[1;31m---------------------------------------------------------------------------\u001b[0m",
      "\u001b[1;31mTypeError\u001b[0m                                 Traceback (most recent call last)",
      "Cell \u001b[1;32mIn[42], line 1\u001b[0m\n\u001b[1;32m----> 1\u001b[0m \u001b[38;5;28mprint\u001b[39m(\u001b[43mdata\u001b[49m\u001b[38;5;241;43m.\u001b[39;49m\u001b[43mbfill\u001b[49m\u001b[43m(\u001b[49m\u001b[38;5;124;43m\"\u001b[39;49m\u001b[38;5;124;43m20\u001b[39;49m\u001b[38;5;124;43m\"\u001b[39;49m\u001b[43m)\u001b[49m)\n",
      "\u001b[1;31mTypeError\u001b[0m: NDFrame.bfill() takes 1 positional argument but 2 were given"
     ]
    }
   ],
   "source": [
    "print(data.bfill())"
   ]
  },
  {
   "cell_type": "code",
   "execution_count": 39,
   "id": "8fea8cbd-8419-4ead-b247-8608a5f214b8",
   "metadata": {},
   "outputs": [
    {
     "name": "stdout",
     "output_type": "stream",
     "text": [
      "    Row ID  Discount  Unit Price  Shipping Cost  Customer ID   Customer Name\n",
      "0    20847      0.01        2.84           0.93            3   Bonnie Potter\n",
      "1    20228      0.02      500.98          26.00            5  Ronnie Proctor\n",
      "2    21776      0.06        9.48           7.29           11   Marcus Dunlap\n",
      "3    24844      0.09       78.69          19.99           14       Gwendolyn\n",
      "4    24846      0.08        3.28          19.99           14       Gwendolyn\n",
      "5    24847      0.05        3.28           4.20           14       Gwendolyn\n",
      "6    24848      0.05        3.28           1.63           14       Gwendolyn\n",
      "7    18181      0.00        4.42           4.99           15   Timothy Reese\n",
      "8    20925      0.01       35.94           6.66           15   Timothy Reese\n",
      "9    26267      0.04        2.98           1.58           16    Sarah Ramsey\n",
      "10   26268      0.05      115.99           2.50           16    Sarah Ramsey\n",
      "11   23890      0.05       26.48           6.93           18    Laurie Hanna\n",
      "12   24063      0.05       12.99           9.44           19     Jim Rodgers\n",
      "13    5890      0.05       26.48           6.93           21    Tony Wilkins\n",
      "14    6062      0.08        5.00           3.39           21    Tony Wilkins\n",
      "15    6063      0.07       12.99           3.39           21    Tony Wilkins\n",
      "16   20631      0.06       55.48          14.30           24     Edna Thomas\n",
      "17   20632      0.02       55.48           1.57           24     Edna Thomas\n",
      "18   23967      0.04        4.14           6.60           27   Guy Gallagher\n"
     ]
    }
   ],
   "source": [
    "print(data.ffill())"
   ]
  }
 ],
 "metadata": {
  "kernelspec": {
   "display_name": "Python 3 (ipykernel)",
   "language": "python",
   "name": "python3"
  },
  "language_info": {
   "codemirror_mode": {
    "name": "ipython",
    "version": 3
   },
   "file_extension": ".py",
   "mimetype": "text/x-python",
   "name": "python",
   "nbconvert_exporter": "python",
   "pygments_lexer": "ipython3",
   "version": "3.12.4"
  }
 },
 "nbformat": 4,
 "nbformat_minor": 5
}
