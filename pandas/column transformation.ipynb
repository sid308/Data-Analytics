{
 "cells": [
  {
   "cell_type": "code",
   "execution_count": 42,
   "id": "ce7633e1-3186-4051-b8b0-a2f646c9a478",
   "metadata": {},
   "outputs": [
    {
     "name": "stdout",
     "output_type": "stream",
     "text": [
      "   Row ID  Discount  Unit Price  Shipping Cost  Customer ID   Customer Name\n",
      "0   20847      0.01        2.84           0.93            3   Bonnie Potter\n",
      "1   20228      0.02      500.98          26.00            5  Ronnie Proctor\n",
      "2   21776      0.06        9.48           7.29           11   Marcus Dunlap\n",
      "3   24844      0.09       78.69          19.99           14       Gwendolyn\n",
      "4   24846      0.08        3.28            NaN           14       Gwendolyn\n",
      "5   24847      0.05        3.28           4.20           14       Gwendolyn\n",
      "6   24848      0.05         NaN           1.63           14       Gwendolyn\n",
      "7   18181      0.00        4.42           4.99           15   Timothy Reese\n",
      "8   20925      0.01       35.94           6.66           15   Timothy Reese\n",
      "9   26267      0.04        2.98           1.58           16    Sarah Ramsey\n"
     ]
    }
   ],
   "source": [
    "import pandas as pd\n",
    "data = pd.read_excel(\"store.xlsx\")\n",
    "print(data.head(10))\n",
    "# data.loc[(data[\"Discount\"]>0.02,\"Discountt\")]=\"Nice discount\"\n",
    "# data.loc[(data[\"Discount\"]<=0.02,\"Discountt\")]=\"Bad discount\"\n",
    "# print(data.head(10))\n",
    "# print(\"------------------------------------------------------------------------\")"
   ]
  },
  {
   "cell_type": "code",
   "execution_count": null,
   "id": "e470637a-47e8-4f70-a3c1-96a0a496490f",
   "metadata": {},
   "outputs": [],
   "source": [
    "# data[\"Customer Discount\"] = data[\"Customer ID\"]+data[\"Discount\"]\n",
    "# print(data)"
   ]
  },
  {
   "cell_type": "code",
   "execution_count": null,
   "id": "b3fd0d0a-5035-44e1-b729-d6007c8b2a69",
   "metadata": {},
   "outputs": [],
   "source": [
    "data[\"Percentage\"] =(data[\"Row ID\"]/100)*20 #calculate 20% of row id\n",
    "print(data.head(10))"
   ]
  },
  {
   "cell_type": "code",
   "execution_count": 48,
   "id": "f2499392-9211-4d7b-9cea-2153d223978f",
   "metadata": {},
   "outputs": [
    {
     "name": "stdout",
     "output_type": "stream",
     "text": [
      "     Months\n",
      "0   January\n",
      "1  February\n",
      "2     March\n",
      "3     April\n",
      "     Months short months\n",
      "0   January          Jan\n",
      "1  February          Feb\n",
      "2     March          Mar\n",
      "3     April          Apr\n"
     ]
    }
   ],
   "source": [
    "data = {\"Months\" : [\"January\", \"February\", \"March\", \"April\"]}\n",
    "df = pd.DataFrame(data)\n",
    "print(df)\n",
    "def shortenMonth(value):\n",
    "    return value[0:3]\n",
    "df[\"short months\"] = df[\"Months\"].map(shortenMonth)\n",
    "print(df)"
   ]
  }
 ],
 "metadata": {
  "kernelspec": {
   "display_name": "Python 3 (ipykernel)",
   "language": "python",
   "name": "python3"
  },
  "language_info": {
   "codemirror_mode": {
    "name": "ipython",
    "version": 3
   },
   "file_extension": ".py",
   "mimetype": "text/x-python",
   "name": "python",
   "nbconvert_exporter": "python",
   "pygments_lexer": "ipython3",
   "version": "3.12.4"
  }
 },
 "nbformat": 4,
 "nbformat_minor": 5
}
