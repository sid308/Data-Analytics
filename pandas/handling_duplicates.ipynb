{
 "cells": [
  {
   "cell_type": "code",
   "execution_count": 3,
   "id": "c618b6fc-08ee-4e6b-a167-5346da398498",
   "metadata": {},
   "outputs": [
    {
     "name": "stdout",
     "output_type": "stream",
     "text": [
      "    Row ID  Discount  Unit Price  Shipping Cost  Customer ID   Customer Name\n",
      "0    20847      0.01        2.84           0.93            3   Bonnie Potter\n",
      "1    20228      0.02      500.98          26.00            5  Ronnie Proctor\n",
      "2    21776      0.06        9.48           7.29           11   Marcus Dunlap\n",
      "3    24844      0.09       78.69          19.99           14       Gwendolyn\n",
      "4    24846      0.08        3.28           2.31           14       Gwendolyn\n",
      "5    24847      0.05        3.28           4.20           14       Gwendolyn\n",
      "6    24848      0.05        3.58           1.63           14       Gwendolyn\n",
      "7    18181      0.00        4.42           4.99           15   Timothy Reese\n",
      "8    20925      0.01       35.94           6.66           15   Timothy Reese\n",
      "9    26267      0.04        2.98           1.58           16    Sarah Ramsey\n",
      "10   26268      0.05      115.99           2.50           16    Sarah Ramsey\n",
      "11   23890      0.05       26.48           6.93           18    Laurie Hanna\n",
      "12   24063      0.07       12.99           9.44           19     Jim Rodgers\n",
      "13    5890      0.05       26.48           6.93           21    Tony Wilkins\n",
      "14    6062      0.08        5.00           3.39           21    Tony Wilkins\n",
      "15    6063      0.07       12.99           9.44           21    Tony Wilkins\n",
      "16   20631      0.06       55.48          14.30           24     Edna Thomas\n",
      "17   20632      0.02        1.68           1.57           24     Edna Thomas\n",
      "18   23967      0.04        4.14           6.60           27   Guy Gallagher\n"
     ]
    }
   ],
   "source": [
    "import pandas as pd\n",
    "data = pd.read_excel(\"store.xlsx\")\n",
    "print(data)"
   ]
  },
  {
   "cell_type": "code",
   "execution_count": 21,
   "id": "9490d011-9f54-4564-98fe-d47029699d0c",
   "metadata": {},
   "outputs": [
    {
     "name": "stdout",
     "output_type": "stream",
     "text": [
      "0     False\n",
      "1     False\n",
      "2     False\n",
      "3     False\n",
      "4     False\n",
      "5     False\n",
      "6     False\n",
      "7     False\n",
      "8     False\n",
      "9     False\n",
      "10    False\n",
      "11    False\n",
      "12    False\n",
      "13    False\n",
      "14    False\n",
      "15    False\n",
      "16    False\n",
      "17    False\n",
      "18    False\n",
      "dtype: bool\n"
     ]
    }
   ],
   "source": [
    "print(data.duplicated())"
   ]
  },
  {
   "cell_type": "code",
   "execution_count": 13,
   "id": "970c1961-8288-4c50-9b70-a0c0daedca2c",
   "metadata": {},
   "outputs": [
    {
     "name": "stdout",
     "output_type": "stream",
     "text": [
      "0     False\n",
      "1     False\n",
      "2     False\n",
      "3     False\n",
      "4      True\n",
      "5      True\n",
      "6      True\n",
      "7     False\n",
      "8      True\n",
      "9     False\n",
      "10     True\n",
      "11    False\n",
      "12    False\n",
      "13    False\n",
      "14     True\n",
      "15     True\n",
      "16    False\n",
      "17     True\n",
      "18    False\n",
      "Name: Customer Name, dtype: bool\n"
     ]
    }
   ],
   "source": [
    "print(data[\"Customer Name\"].duplicated())"
   ]
  },
  {
   "cell_type": "code",
   "execution_count": 26,
   "id": "be710cca-eb56-4994-905a-2e0a08e9e03e",
   "metadata": {},
   "outputs": [
    {
     "name": "stdout",
     "output_type": "stream",
     "text": [
      "10\n"
     ]
    }
   ],
   "source": [
    "print(data[\"Discount\"].duplicated().sum())"
   ]
  },
  {
   "cell_type": "code",
   "execution_count": 29,
   "id": "5ee1e8d8-ea4c-4153-b0a2-71c8955eb74e",
   "metadata": {},
   "outputs": [
    {
     "name": "stdout",
     "output_type": "stream",
     "text": [
      "    Row ID  Discount  Unit Price  Shipping Cost  Customer ID   Customer Name\n",
      "0    20847      0.01        2.84           0.93            3   Bonnie Potter\n",
      "1    20228      0.02      500.98          26.00            5  Ronnie Proctor\n",
      "2    21776      0.06        9.48           7.29           11   Marcus Dunlap\n",
      "3    24844      0.09       78.69          19.99           14       Gwendolyn\n",
      "7    18181      0.00        4.42           4.99           15   Timothy Reese\n",
      "9    26267      0.04        2.98           1.58           16    Sarah Ramsey\n",
      "11   23890      0.05       26.48           6.93           18    Laurie Hanna\n",
      "12   24063      0.07       12.99           9.44           19     Jim Rodgers\n",
      "13    5890      0.05       26.48           6.93           21    Tony Wilkins\n",
      "16   20631      0.06       55.48          14.30           24     Edna Thomas\n",
      "18   23967      0.04        4.14           6.60           27   Guy Gallagher\n",
      "------------------------------------\n",
      "    Row ID  Discount  Unit Price  Shipping Cost  Customer ID   Customer Name\n",
      "0    20847      0.01        2.84           0.93            3   Bonnie Potter\n",
      "1    20228      0.02      500.98          26.00            5  Ronnie Proctor\n",
      "2    21776      0.06        9.48           7.29           11   Marcus Dunlap\n",
      "3    24844      0.09       78.69          19.99           14       Gwendolyn\n",
      "4    24846      0.08        3.28           2.31           14       Gwendolyn\n",
      "5    24847      0.05        3.28           4.20           14       Gwendolyn\n",
      "6    24848      0.05        3.58           1.63           14       Gwendolyn\n",
      "7    18181      0.00        4.42           4.99           15   Timothy Reese\n",
      "8    20925      0.01       35.94           6.66           15   Timothy Reese\n",
      "9    26267      0.04        2.98           1.58           16    Sarah Ramsey\n",
      "10   26268      0.05      115.99           2.50           16    Sarah Ramsey\n",
      "11   23890      0.05       26.48           6.93           18    Laurie Hanna\n",
      "12   24063      0.07       12.99           9.44           19     Jim Rodgers\n",
      "13    5890      0.05       26.48           6.93           21    Tony Wilkins\n",
      "14    6062      0.08        5.00           3.39           21    Tony Wilkins\n",
      "15    6063      0.07       12.99           9.44           21    Tony Wilkins\n",
      "16   20631      0.06       55.48          14.30           24     Edna Thomas\n",
      "17   20632      0.02        1.68           1.57           24     Edna Thomas\n",
      "18   23967      0.04        4.14           6.60           27   Guy Gallagher\n"
     ]
    }
   ],
   "source": [
    "print(data.drop_duplicates(\"Customer Name\"))\n",
    "print(\"------------------------------------\")\n",
    "print(data)"
   ]
  }
 ],
 "metadata": {
  "kernelspec": {
   "display_name": "Python 3 (ipykernel)",
   "language": "python",
   "name": "python3"
  },
  "language_info": {
   "codemirror_mode": {
    "name": "ipython",
    "version": 3
   },
   "file_extension": ".py",
   "mimetype": "text/x-python",
   "name": "python",
   "nbconvert_exporter": "python",
   "pygments_lexer": "ipython3",
   "version": "3.12.4"
  }
 },
 "nbformat": 4,
 "nbformat_minor": 5
}
