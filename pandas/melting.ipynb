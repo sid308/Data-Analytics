{
 "cells": [
  {
   "cell_type": "code",
   "execution_count": 2,
   "id": "29f1bdd3-f3eb-4494-bb9d-0734ad687749",
   "metadata": {},
   "outputs": [
    {
     "name": "stdout",
     "output_type": "stream",
     "text": [
      "   Names Houses Grades\n",
      "0   John    red    3rd\n",
      "1    Ben   blue    8th\n",
      "2  David  green    9th\n",
      "3  Peter    red    8th\n",
      "\n",
      "   Names Houses&Grades Values\n",
      "0   John        Houses    red\n",
      "1    Ben        Houses   blue\n",
      "2  David        Houses  green\n",
      "3  Peter        Houses    red\n",
      "4   John        Grades    3rd\n",
      "5    Ben        Grades    8th\n",
      "6  David        Grades    9th\n",
      "7  Peter        Grades    8th\n"
     ]
    }
   ],
   "source": [
    "import pandas as pd\n",
    "dict = {\n",
    "        \"Names\": [\" John\", \"Ben\", \"David\", \"Peter\"],\n",
    "        \"Houses\": [\"red\", \"blue\", \"green\", \"red\" ],\n",
    "        \"Grades\": [\"3rd\", \"8th\", \"9th\", \"8th\"]}\n",
    "df = pd.DataFrame(dict)\n",
    "print(df)\n",
    "print()\n",
    "print(pd.melt(df, id_vars=['Names'],value_vars=['Houses','Grades'],var_name='Houses&Grades',value_name='Values'))"
   ]
  }
 ],
 "metadata": {
  "kernelspec": {
   "display_name": "Python 3 (ipykernel)",
   "language": "python",
   "name": "python3"
  },
  "language_info": {
   "codemirror_mode": {
    "name": "ipython",
    "version": 3
   },
   "file_extension": ".py",
   "mimetype": "text/x-python",
   "name": "python",
   "nbconvert_exporter": "python",
   "pygments_lexer": "ipython3",
   "version": "3.12.4"
  }
 },
 "nbformat": 4,
 "nbformat_minor": 5
}
